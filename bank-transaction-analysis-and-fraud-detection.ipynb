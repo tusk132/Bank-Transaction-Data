{
 "cells": [
  {
   "cell_type": "code",
   "execution_count": 1,
   "id": "032039cb",
   "metadata": {
    "_cell_guid": "b1076dfc-b9ad-4769-8c92-a6c4dae69d19",
    "_uuid": "8f2839f25d086af736a60e9eeb907d3b93b6e0e5",
    "execution": {
     "iopub.execute_input": "2025-01-31T01:49:08.227687Z",
     "iopub.status.busy": "2025-01-31T01:49:08.227280Z",
     "iopub.status.idle": "2025-01-31T01:49:11.172687Z",
     "shell.execute_reply": "2025-01-31T01:49:11.171544Z"
    },
    "papermill": {
     "duration": 2.952916,
     "end_time": "2025-01-31T01:49:11.174288",
     "exception": false,
     "start_time": "2025-01-31T01:49:08.221372",
     "status": "completed"
    },
    "tags": []
   },
   "outputs": [
    {
     "name": "stdout",
     "output_type": "stream",
     "text": [
      "/kaggle/input/transaction-data-for-banking-operations/transaction_data.csv\n"
     ]
    }
   ],
   "source": [
    "# This Python 3 environment comes with many helpful analytics libraries installed\n",
    "# It is defined by the kaggle/python Docker image: https://github.com/kaggle/docker-python\n",
    "# For example, here's several helpful packages to load\n",
    "\n",
    "import numpy as np # linear algebra\n",
    "import pandas as pd # data processing, CSV file I/O (e.g. pd.read_csv)\n",
    "import matplotlib.pyplot as plt\n",
    "import math\n",
    "import seaborn as sns\n",
    "from sklearn.preprocessing import LabelEncoder\n",
    "\n",
    "# Input data files are available in the read-only \"../input/\" directory\n",
    "# For example, running this (by clicking run or pressing Shift+Enter) will list all files under the input directory\n",
    "\n",
    "import os\n",
    "for dirname, _, filenames in os.walk('/kaggle/input'):\n",
    "    for filename in filenames:\n",
    "        print(os.path.join(dirname, filename))\n",
    "\n",
    "# You can write up to 20GB to the current directory (/kaggle/working/) that gets preserved as output when you create a version using \"Save & Run All\" \n",
    "# You can also write temporary files to /kaggle/temp/, but they won't be saved outside of the current session"
   ]
  },
  {
   "cell_type": "code",
   "execution_count": 2,
   "id": "7fb28b30",
   "metadata": {
    "execution": {
     "iopub.execute_input": "2025-01-31T01:49:11.184004Z",
     "iopub.status.busy": "2025-01-31T01:49:11.183329Z",
     "iopub.status.idle": "2025-01-31T01:49:11.238746Z",
     "shell.execute_reply": "2025-01-31T01:49:11.237200Z"
    },
    "papermill": {
     "duration": 0.062058,
     "end_time": "2025-01-31T01:49:11.240643",
     "exception": false,
     "start_time": "2025-01-31T01:49:11.178585",
     "status": "completed"
    },
    "tags": []
   },
   "outputs": [
    {
     "name": "stdout",
     "output_type": "stream",
     "text": [
      "<class 'pandas.core.frame.DataFrame'>\n",
      "RangeIndex: 1000 entries, 0 to 999\n",
      "Data columns (total 14 columns):\n",
      " #   Column                            Non-Null Count  Dtype  \n",
      "---  ------                            --------------  -----  \n",
      " 0   Transaction ID                    1000 non-null   object \n",
      " 1   Sender Account ID                 1000 non-null   object \n",
      " 2   Receiver Account ID               1000 non-null   object \n",
      " 3   Transaction Amount                1000 non-null   float64\n",
      " 4   Transaction Type                  1000 non-null   object \n",
      " 5   Timestamp                         1000 non-null   object \n",
      " 6   Transaction Status                1000 non-null   object \n",
      " 7   Fraud Flag                        1000 non-null   bool   \n",
      " 8   Geolocation (Latitude/Longitude)  1000 non-null   object \n",
      " 9   Device Used                       1000 non-null   object \n",
      " 10  Network Slice ID                  1000 non-null   object \n",
      " 11  Latency (ms)                      1000 non-null   int64  \n",
      " 12  Slice Bandwidth (Mbps)            1000 non-null   int64  \n",
      " 13  PIN Code                          1000 non-null   int64  \n",
      "dtypes: bool(1), float64(1), int64(3), object(9)\n",
      "memory usage: 102.7+ KB\n"
     ]
    }
   ],
   "source": [
    "df= pd.read_csv('/kaggle/input/transaction-data-for-banking-operations/transaction_data.csv')\n",
    "df.info()"
   ]
  },
  {
   "cell_type": "code",
   "execution_count": 3,
   "id": "c571b1c9",
   "metadata": {
    "execution": {
     "iopub.execute_input": "2025-01-31T01:49:11.250054Z",
     "iopub.status.busy": "2025-01-31T01:49:11.249676Z",
     "iopub.status.idle": "2025-01-31T01:49:11.271954Z",
     "shell.execute_reply": "2025-01-31T01:49:11.270941Z"
    },
    "papermill": {
     "duration": 0.028683,
     "end_time": "2025-01-31T01:49:11.273553",
     "exception": false,
     "start_time": "2025-01-31T01:49:11.244870",
     "status": "completed"
    },
    "tags": []
   },
   "outputs": [
    {
     "data": {
      "text/html": [
       "<div>\n",
       "<style scoped>\n",
       "    .dataframe tbody tr th:only-of-type {\n",
       "        vertical-align: middle;\n",
       "    }\n",
       "\n",
       "    .dataframe tbody tr th {\n",
       "        vertical-align: top;\n",
       "    }\n",
       "\n",
       "    .dataframe thead th {\n",
       "        text-align: right;\n",
       "    }\n",
       "</style>\n",
       "<table border=\"1\" class=\"dataframe\">\n",
       "  <thead>\n",
       "    <tr style=\"text-align: right;\">\n",
       "      <th></th>\n",
       "      <th>Transaction ID</th>\n",
       "      <th>Sender Account ID</th>\n",
       "      <th>Receiver Account ID</th>\n",
       "      <th>Transaction Amount</th>\n",
       "      <th>Transaction Type</th>\n",
       "      <th>Timestamp</th>\n",
       "      <th>Transaction Status</th>\n",
       "      <th>Fraud Flag</th>\n",
       "      <th>Geolocation (Latitude/Longitude)</th>\n",
       "      <th>Device Used</th>\n",
       "      <th>Network Slice ID</th>\n",
       "      <th>Latency (ms)</th>\n",
       "      <th>Slice Bandwidth (Mbps)</th>\n",
       "      <th>PIN Code</th>\n",
       "    </tr>\n",
       "  </thead>\n",
       "  <tbody>\n",
       "    <tr>\n",
       "      <th>0</th>\n",
       "      <td>TXN9520068950</td>\n",
       "      <td>ACC14994</td>\n",
       "      <td>ACC16656</td>\n",
       "      <td>495.90</td>\n",
       "      <td>Deposit</td>\n",
       "      <td>2025-01-17 10:14:00</td>\n",
       "      <td>Failed</td>\n",
       "      <td>True</td>\n",
       "      <td>34.0522 N, -74.006 W</td>\n",
       "      <td>Desktop</td>\n",
       "      <td>Slice3</td>\n",
       "      <td>10</td>\n",
       "      <td>179</td>\n",
       "      <td>3075</td>\n",
       "    </tr>\n",
       "    <tr>\n",
       "      <th>1</th>\n",
       "      <td>TXN9412011085</td>\n",
       "      <td>ACC58958</td>\n",
       "      <td>ACC32826</td>\n",
       "      <td>529.62</td>\n",
       "      <td>Withdrawal</td>\n",
       "      <td>2025-01-17 10:51:00</td>\n",
       "      <td>Success</td>\n",
       "      <td>False</td>\n",
       "      <td>35.6895 N, -118.2437 W</td>\n",
       "      <td>Mobile</td>\n",
       "      <td>Slice2</td>\n",
       "      <td>11</td>\n",
       "      <td>89</td>\n",
       "      <td>2369</td>\n",
       "    </tr>\n",
       "    <tr>\n",
       "      <th>2</th>\n",
       "      <td>TXN4407425052</td>\n",
       "      <td>ACC56321</td>\n",
       "      <td>ACC92481</td>\n",
       "      <td>862.47</td>\n",
       "      <td>Withdrawal</td>\n",
       "      <td>2025-01-17 10:50:00</td>\n",
       "      <td>Failed</td>\n",
       "      <td>False</td>\n",
       "      <td>48.8566 N, 2.3522 W</td>\n",
       "      <td>Mobile</td>\n",
       "      <td>Slice1</td>\n",
       "      <td>4</td>\n",
       "      <td>53</td>\n",
       "      <td>8039</td>\n",
       "    </tr>\n",
       "    <tr>\n",
       "      <th>3</th>\n",
       "      <td>TXN2214150284</td>\n",
       "      <td>ACC48650</td>\n",
       "      <td>ACC76457</td>\n",
       "      <td>1129.88</td>\n",
       "      <td>Transfer</td>\n",
       "      <td>2025-01-17 10:56:00</td>\n",
       "      <td>Success</td>\n",
       "      <td>True</td>\n",
       "      <td>34.0522 N, -74.006 W</td>\n",
       "      <td>Mobile</td>\n",
       "      <td>Slice3</td>\n",
       "      <td>10</td>\n",
       "      <td>127</td>\n",
       "      <td>6374</td>\n",
       "    </tr>\n",
       "    <tr>\n",
       "      <th>4</th>\n",
       "      <td>TXN4247571145</td>\n",
       "      <td>ACC60921</td>\n",
       "      <td>ACC11419</td>\n",
       "      <td>933.24</td>\n",
       "      <td>Deposit</td>\n",
       "      <td>2025-01-17 10:25:00</td>\n",
       "      <td>Success</td>\n",
       "      <td>True</td>\n",
       "      <td>55.7558 N, 37.6173 W</td>\n",
       "      <td>Mobile</td>\n",
       "      <td>Slice3</td>\n",
       "      <td>20</td>\n",
       "      <td>191</td>\n",
       "      <td>8375</td>\n",
       "    </tr>\n",
       "  </tbody>\n",
       "</table>\n",
       "</div>"
      ],
      "text/plain": [
       "  Transaction ID Sender Account ID Receiver Account ID  Transaction Amount  \\\n",
       "0  TXN9520068950          ACC14994            ACC16656              495.90   \n",
       "1  TXN9412011085          ACC58958            ACC32826              529.62   \n",
       "2  TXN4407425052          ACC56321            ACC92481              862.47   \n",
       "3  TXN2214150284          ACC48650            ACC76457             1129.88   \n",
       "4  TXN4247571145          ACC60921            ACC11419              933.24   \n",
       "\n",
       "  Transaction Type            Timestamp Transaction Status  Fraud Flag  \\\n",
       "0          Deposit  2025-01-17 10:14:00             Failed        True   \n",
       "1       Withdrawal  2025-01-17 10:51:00            Success       False   \n",
       "2       Withdrawal  2025-01-17 10:50:00             Failed       False   \n",
       "3         Transfer  2025-01-17 10:56:00            Success        True   \n",
       "4          Deposit  2025-01-17 10:25:00            Success        True   \n",
       "\n",
       "  Geolocation (Latitude/Longitude) Device Used Network Slice ID  Latency (ms)  \\\n",
       "0             34.0522 N, -74.006 W     Desktop           Slice3            10   \n",
       "1           35.6895 N, -118.2437 W      Mobile           Slice2            11   \n",
       "2              48.8566 N, 2.3522 W      Mobile           Slice1             4   \n",
       "3             34.0522 N, -74.006 W      Mobile           Slice3            10   \n",
       "4             55.7558 N, 37.6173 W      Mobile           Slice3            20   \n",
       "\n",
       "   Slice Bandwidth (Mbps)  PIN Code  \n",
       "0                     179      3075  \n",
       "1                      89      2369  \n",
       "2                      53      8039  \n",
       "3                     127      6374  \n",
       "4                     191      8375  "
      ]
     },
     "execution_count": 3,
     "metadata": {},
     "output_type": "execute_result"
    }
   ],
   "source": [
    "df.head()"
   ]
  },
  {
   "cell_type": "code",
   "execution_count": 4,
   "id": "df5a8626",
   "metadata": {
    "execution": {
     "iopub.execute_input": "2025-01-31T01:49:11.283530Z",
     "iopub.status.busy": "2025-01-31T01:49:11.283168Z",
     "iopub.status.idle": "2025-01-31T01:49:11.291085Z",
     "shell.execute_reply": "2025-01-31T01:49:11.290129Z"
    },
    "papermill": {
     "duration": 0.014571,
     "end_time": "2025-01-31T01:49:11.292613",
     "exception": false,
     "start_time": "2025-01-31T01:49:11.278042",
     "status": "completed"
    },
    "tags": []
   },
   "outputs": [
    {
     "data": {
      "text/plain": [
       "Transaction ID                      0\n",
       "Sender Account ID                   0\n",
       "Receiver Account ID                 0\n",
       "Transaction Amount                  0\n",
       "Transaction Type                    0\n",
       "Timestamp                           0\n",
       "Transaction Status                  0\n",
       "Fraud Flag                          0\n",
       "Geolocation (Latitude/Longitude)    0\n",
       "Device Used                         0\n",
       "Network Slice ID                    0\n",
       "Latency (ms)                        0\n",
       "Slice Bandwidth (Mbps)              0\n",
       "PIN Code                            0\n",
       "dtype: int64"
      ]
     },
     "execution_count": 4,
     "metadata": {},
     "output_type": "execute_result"
    }
   ],
   "source": [
    "df.isnull().sum()"
   ]
  },
  {
   "cell_type": "code",
   "execution_count": 5,
   "id": "ff8cc611",
   "metadata": {
    "execution": {
     "iopub.execute_input": "2025-01-31T01:49:11.302908Z",
     "iopub.status.busy": "2025-01-31T01:49:11.302511Z",
     "iopub.status.idle": "2025-01-31T01:49:11.325189Z",
     "shell.execute_reply": "2025-01-31T01:49:11.324120Z"
    },
    "papermill": {
     "duration": 0.029757,
     "end_time": "2025-01-31T01:49:11.326895",
     "exception": false,
     "start_time": "2025-01-31T01:49:11.297138",
     "status": "completed"
    },
    "tags": []
   },
   "outputs": [
    {
     "data": {
      "text/html": [
       "<div>\n",
       "<style scoped>\n",
       "    .dataframe tbody tr th:only-of-type {\n",
       "        vertical-align: middle;\n",
       "    }\n",
       "\n",
       "    .dataframe tbody tr th {\n",
       "        vertical-align: top;\n",
       "    }\n",
       "\n",
       "    .dataframe thead th {\n",
       "        text-align: right;\n",
       "    }\n",
       "</style>\n",
       "<table border=\"1\" class=\"dataframe\">\n",
       "  <thead>\n",
       "    <tr style=\"text-align: right;\">\n",
       "      <th></th>\n",
       "      <th>Transaction Amount</th>\n",
       "      <th>Latency (ms)</th>\n",
       "      <th>Slice Bandwidth (Mbps)</th>\n",
       "      <th>PIN Code</th>\n",
       "    </tr>\n",
       "  </thead>\n",
       "  <tbody>\n",
       "    <tr>\n",
       "      <th>count</th>\n",
       "      <td>1000.00000</td>\n",
       "      <td>1000.000000</td>\n",
       "      <td>1000.00000</td>\n",
       "      <td>1000.00000</td>\n",
       "    </tr>\n",
       "    <tr>\n",
       "      <th>mean</th>\n",
       "      <td>771.16529</td>\n",
       "      <td>11.688000</td>\n",
       "      <td>148.51100</td>\n",
       "      <td>5458.66600</td>\n",
       "    </tr>\n",
       "    <tr>\n",
       "      <th>std</th>\n",
       "      <td>411.01925</td>\n",
       "      <td>5.131958</td>\n",
       "      <td>57.78634</td>\n",
       "      <td>2603.03646</td>\n",
       "    </tr>\n",
       "    <tr>\n",
       "      <th>min</th>\n",
       "      <td>51.89000</td>\n",
       "      <td>3.000000</td>\n",
       "      <td>50.00000</td>\n",
       "      <td>1000.00000</td>\n",
       "    </tr>\n",
       "    <tr>\n",
       "      <th>25%</th>\n",
       "      <td>423.34750</td>\n",
       "      <td>7.000000</td>\n",
       "      <td>98.00000</td>\n",
       "      <td>3281.75000</td>\n",
       "    </tr>\n",
       "    <tr>\n",
       "      <th>50%</th>\n",
       "      <td>761.65500</td>\n",
       "      <td>12.000000</td>\n",
       "      <td>148.00000</td>\n",
       "      <td>5385.50000</td>\n",
       "    </tr>\n",
       "    <tr>\n",
       "      <th>75%</th>\n",
       "      <td>1122.67250</td>\n",
       "      <td>16.000000</td>\n",
       "      <td>198.25000</td>\n",
       "      <td>7535.00000</td>\n",
       "    </tr>\n",
       "    <tr>\n",
       "      <th>max</th>\n",
       "      <td>1497.76000</td>\n",
       "      <td>20.000000</td>\n",
       "      <td>250.00000</td>\n",
       "      <td>9999.00000</td>\n",
       "    </tr>\n",
       "  </tbody>\n",
       "</table>\n",
       "</div>"
      ],
      "text/plain": [
       "       Transaction Amount  Latency (ms)  Slice Bandwidth (Mbps)    PIN Code\n",
       "count          1000.00000   1000.000000              1000.00000  1000.00000\n",
       "mean            771.16529     11.688000               148.51100  5458.66600\n",
       "std             411.01925      5.131958                57.78634  2603.03646\n",
       "min              51.89000      3.000000                50.00000  1000.00000\n",
       "25%             423.34750      7.000000                98.00000  3281.75000\n",
       "50%             761.65500     12.000000               148.00000  5385.50000\n",
       "75%            1122.67250     16.000000               198.25000  7535.00000\n",
       "max            1497.76000     20.000000               250.00000  9999.00000"
      ]
     },
     "execution_count": 5,
     "metadata": {},
     "output_type": "execute_result"
    }
   ],
   "source": [
    "df.describe()"
   ]
  },
  {
   "cell_type": "code",
   "execution_count": 6,
   "id": "67049c2c",
   "metadata": {
    "execution": {
     "iopub.execute_input": "2025-01-31T01:49:11.337391Z",
     "iopub.status.busy": "2025-01-31T01:49:11.337008Z",
     "iopub.status.idle": "2025-01-31T01:49:11.345659Z",
     "shell.execute_reply": "2025-01-31T01:49:11.344707Z"
    },
    "papermill": {
     "duration": 0.015692,
     "end_time": "2025-01-31T01:49:11.347252",
     "exception": false,
     "start_time": "2025-01-31T01:49:11.331560",
     "status": "completed"
    },
    "tags": []
   },
   "outputs": [
    {
     "data": {
      "text/plain": [
       "Fraud Flag\n",
       "False    519\n",
       "True     481\n",
       "Name: count, dtype: int64"
      ]
     },
     "execution_count": 6,
     "metadata": {},
     "output_type": "execute_result"
    }
   ],
   "source": [
    "# Checking how value counts of the target variable \n",
    "df['Fraud Flag'].value_counts()"
   ]
  },
  {
   "cell_type": "markdown",
   "id": "76dbadcf",
   "metadata": {
    "papermill": {
     "duration": 0.00432,
     "end_time": "2025-01-31T01:49:11.356439",
     "exception": false,
     "start_time": "2025-01-31T01:49:11.352119",
     "status": "completed"
    },
    "tags": []
   },
   "source": [
    "## Data Cleaning and Preprocessing\n",
    "1. Checking if there are any missing values\n",
    "2. Encoding Categorical Data\n",
    "3. "
   ]
  },
  {
   "cell_type": "code",
   "execution_count": 7,
   "id": "971bcc34",
   "metadata": {
    "execution": {
     "iopub.execute_input": "2025-01-31T01:49:11.366883Z",
     "iopub.status.busy": "2025-01-31T01:49:11.366509Z",
     "iopub.status.idle": "2025-01-31T01:49:11.376871Z",
     "shell.execute_reply": "2025-01-31T01:49:11.375942Z"
    },
    "papermill": {
     "duration": 0.017528,
     "end_time": "2025-01-31T01:49:11.378545",
     "exception": false,
     "start_time": "2025-01-31T01:49:11.361017",
     "status": "completed"
    },
    "tags": []
   },
   "outputs": [
    {
     "data": {
      "text/html": [
       "<div>\n",
       "<style scoped>\n",
       "    .dataframe tbody tr th:only-of-type {\n",
       "        vertical-align: middle;\n",
       "    }\n",
       "\n",
       "    .dataframe tbody tr th {\n",
       "        vertical-align: top;\n",
       "    }\n",
       "\n",
       "    .dataframe thead th {\n",
       "        text-align: right;\n",
       "    }\n",
       "</style>\n",
       "<table border=\"1\" class=\"dataframe\">\n",
       "  <thead>\n",
       "    <tr style=\"text-align: right;\">\n",
       "      <th></th>\n",
       "      <th>Num missing values</th>\n",
       "    </tr>\n",
       "  </thead>\n",
       "  <tbody>\n",
       "    <tr>\n",
       "      <th>Transaction ID</th>\n",
       "      <td>0</td>\n",
       "    </tr>\n",
       "    <tr>\n",
       "      <th>Sender Account ID</th>\n",
       "      <td>0</td>\n",
       "    </tr>\n",
       "    <tr>\n",
       "      <th>Receiver Account ID</th>\n",
       "      <td>0</td>\n",
       "    </tr>\n",
       "    <tr>\n",
       "      <th>Transaction Amount</th>\n",
       "      <td>0</td>\n",
       "    </tr>\n",
       "    <tr>\n",
       "      <th>Transaction Type</th>\n",
       "      <td>0</td>\n",
       "    </tr>\n",
       "    <tr>\n",
       "      <th>Timestamp</th>\n",
       "      <td>0</td>\n",
       "    </tr>\n",
       "    <tr>\n",
       "      <th>Transaction Status</th>\n",
       "      <td>0</td>\n",
       "    </tr>\n",
       "    <tr>\n",
       "      <th>Fraud Flag</th>\n",
       "      <td>0</td>\n",
       "    </tr>\n",
       "    <tr>\n",
       "      <th>Geolocation (Latitude/Longitude)</th>\n",
       "      <td>0</td>\n",
       "    </tr>\n",
       "    <tr>\n",
       "      <th>Device Used</th>\n",
       "      <td>0</td>\n",
       "    </tr>\n",
       "    <tr>\n",
       "      <th>Network Slice ID</th>\n",
       "      <td>0</td>\n",
       "    </tr>\n",
       "    <tr>\n",
       "      <th>Latency (ms)</th>\n",
       "      <td>0</td>\n",
       "    </tr>\n",
       "    <tr>\n",
       "      <th>Slice Bandwidth (Mbps)</th>\n",
       "      <td>0</td>\n",
       "    </tr>\n",
       "    <tr>\n",
       "      <th>PIN Code</th>\n",
       "      <td>0</td>\n",
       "    </tr>\n",
       "  </tbody>\n",
       "</table>\n",
       "</div>"
      ],
      "text/plain": [
       "                                  Num missing values\n",
       "Transaction ID                                     0\n",
       "Sender Account ID                                  0\n",
       "Receiver Account ID                                0\n",
       "Transaction Amount                                 0\n",
       "Transaction Type                                   0\n",
       "Timestamp                                          0\n",
       "Transaction Status                                 0\n",
       "Fraud Flag                                         0\n",
       "Geolocation (Latitude/Longitude)                   0\n",
       "Device Used                                        0\n",
       "Network Slice ID                                   0\n",
       "Latency (ms)                                       0\n",
       "Slice Bandwidth (Mbps)                             0\n",
       "PIN Code                                           0"
      ]
     },
     "execution_count": 7,
     "metadata": {},
     "output_type": "execute_result"
    }
   ],
   "source": [
    "# No missing data to impute\n",
    "df.isnull().sum().to_frame().rename(columns={0:\"Num missing values\"})"
   ]
  },
  {
   "cell_type": "code",
   "execution_count": 8,
   "id": "06e0de2c",
   "metadata": {
    "execution": {
     "iopub.execute_input": "2025-01-31T01:49:11.389860Z",
     "iopub.status.busy": "2025-01-31T01:49:11.389425Z",
     "iopub.status.idle": "2025-01-31T01:49:11.397007Z",
     "shell.execute_reply": "2025-01-31T01:49:11.395848Z"
    },
    "papermill": {
     "duration": 0.015095,
     "end_time": "2025-01-31T01:49:11.398790",
     "exception": false,
     "start_time": "2025-01-31T01:49:11.383695",
     "status": "completed"
    },
    "tags": []
   },
   "outputs": [
    {
     "data": {
      "text/plain": [
       "(Index(['Transaction ID', 'Sender Account ID', 'Receiver Account ID',\n",
       "        'Transaction Type', 'Timestamp', 'Transaction Status',\n",
       "        'Geolocation (Latitude/Longitude)', 'Device Used', 'Network Slice ID'],\n",
       "       dtype='object'),\n",
       " Index(['Transaction Amount', 'Fraud Flag', 'Latency (ms)',\n",
       "        'Slice Bandwidth (Mbps)', 'PIN Code'],\n",
       "       dtype='object'))"
      ]
     },
     "execution_count": 8,
     "metadata": {},
     "output_type": "execute_result"
    }
   ],
   "source": [
    "categorical_cols= df.select_dtypes(include='object').columns\n",
    "numerical_cols=df.select_dtypes(exclude='object').columns\n",
    "categorical_cols,numerical_cols"
   ]
  },
  {
   "cell_type": "code",
   "execution_count": 9,
   "id": "b98a8a36",
   "metadata": {
    "execution": {
     "iopub.execute_input": "2025-01-31T01:49:11.410567Z",
     "iopub.status.busy": "2025-01-31T01:49:11.410154Z",
     "iopub.status.idle": "2025-01-31T01:49:11.423957Z",
     "shell.execute_reply": "2025-01-31T01:49:11.423024Z"
    },
    "papermill": {
     "duration": 0.021646,
     "end_time": "2025-01-31T01:49:11.425765",
     "exception": false,
     "start_time": "2025-01-31T01:49:11.404119",
     "status": "completed"
    },
    "tags": []
   },
   "outputs": [
    {
     "data": {
      "text/plain": [
       "(1000, 14)"
      ]
     },
     "execution_count": 9,
     "metadata": {},
     "output_type": "execute_result"
    }
   ],
   "source": [
    "#No duplicates\n",
    "df.drop(['Transaction ID', 'Sender Account ID', 'Receiver Account ID'],axis=1)\n",
    "df=df.drop_duplicates()\n",
    "df.shape"
   ]
  },
  {
   "cell_type": "code",
   "execution_count": 10,
   "id": "e6a2031a",
   "metadata": {
    "execution": {
     "iopub.execute_input": "2025-01-31T01:49:11.437587Z",
     "iopub.status.busy": "2025-01-31T01:49:11.437188Z",
     "iopub.status.idle": "2025-01-31T01:49:11.447571Z",
     "shell.execute_reply": "2025-01-31T01:49:11.446509Z"
    },
    "papermill": {
     "duration": 0.018368,
     "end_time": "2025-01-31T01:49:11.449331",
     "exception": false,
     "start_time": "2025-01-31T01:49:11.430963",
     "status": "completed"
    },
    "tags": []
   },
   "outputs": [
    {
     "data": {
      "text/plain": [
       "(Device Used\n",
       " Mobile     521\n",
       " Desktop    479\n",
       " Name: count, dtype: int64,\n",
       " Transaction Type\n",
       " Transfer      374\n",
       " Deposit       316\n",
       " Withdrawal    310\n",
       " Name: count, dtype: int64,\n",
       " Transaction Status\n",
       " Failed     513\n",
       " Success    487\n",
       " Name: count, dtype: int64,\n",
       " Network Slice ID\n",
       " Slice2    340\n",
       " Slice3    337\n",
       " Slice1    323\n",
       " Name: count, dtype: int64)"
      ]
     },
     "execution_count": 10,
     "metadata": {},
     "output_type": "execute_result"
    }
   ],
   "source": [
    "df['Device Used'].value_counts(),df['Transaction Type'].value_counts(),df['Transaction Status'].value_counts(),df['Network Slice ID'].value_counts()"
   ]
  },
  {
   "cell_type": "code",
   "execution_count": 11,
   "id": "b2b307d2",
   "metadata": {
    "execution": {
     "iopub.execute_input": "2025-01-31T01:49:11.461353Z",
     "iopub.status.busy": "2025-01-31T01:49:11.461036Z",
     "iopub.status.idle": "2025-01-31T01:49:11.468474Z",
     "shell.execute_reply": "2025-01-31T01:49:11.467541Z"
    },
    "papermill": {
     "duration": 0.015311,
     "end_time": "2025-01-31T01:49:11.470145",
     "exception": false,
     "start_time": "2025-01-31T01:49:11.454834",
     "status": "completed"
    },
    "tags": []
   },
   "outputs": [],
   "source": [
    "le=LabelEncoder()\n",
    "encode_cols=['Transaction Type', 'Transaction Status','Device Used', 'Network Slice ID']\n",
    "for col in encode_cols:\n",
    "    df[col] = le.fit_transform(df[col])"
   ]
  },
  {
   "cell_type": "code",
   "execution_count": 12,
   "id": "52463f52",
   "metadata": {
    "execution": {
     "iopub.execute_input": "2025-01-31T01:49:11.482074Z",
     "iopub.status.busy": "2025-01-31T01:49:11.481721Z",
     "iopub.status.idle": "2025-01-31T01:49:11.501004Z",
     "shell.execute_reply": "2025-01-31T01:49:11.499982Z"
    },
    "papermill": {
     "duration": 0.027294,
     "end_time": "2025-01-31T01:49:11.502802",
     "exception": false,
     "start_time": "2025-01-31T01:49:11.475508",
     "status": "completed"
    },
    "tags": []
   },
   "outputs": [
    {
     "data": {
      "text/html": [
       "<div>\n",
       "<style scoped>\n",
       "    .dataframe tbody tr th:only-of-type {\n",
       "        vertical-align: middle;\n",
       "    }\n",
       "\n",
       "    .dataframe tbody tr th {\n",
       "        vertical-align: top;\n",
       "    }\n",
       "\n",
       "    .dataframe thead th {\n",
       "        text-align: right;\n",
       "    }\n",
       "</style>\n",
       "<table border=\"1\" class=\"dataframe\">\n",
       "  <thead>\n",
       "    <tr style=\"text-align: right;\">\n",
       "      <th></th>\n",
       "      <th>Transaction Amount</th>\n",
       "      <th>Latency (ms)</th>\n",
       "      <th>Slice Bandwidth (Mbps)</th>\n",
       "      <th>PIN Code</th>\n",
       "    </tr>\n",
       "  </thead>\n",
       "  <tbody>\n",
       "    <tr>\n",
       "      <th>count</th>\n",
       "      <td>1000.00000</td>\n",
       "      <td>1000.000000</td>\n",
       "      <td>1000.00000</td>\n",
       "      <td>1000.00000</td>\n",
       "    </tr>\n",
       "    <tr>\n",
       "      <th>mean</th>\n",
       "      <td>771.16529</td>\n",
       "      <td>11.688000</td>\n",
       "      <td>148.51100</td>\n",
       "      <td>5458.66600</td>\n",
       "    </tr>\n",
       "    <tr>\n",
       "      <th>std</th>\n",
       "      <td>411.01925</td>\n",
       "      <td>5.131958</td>\n",
       "      <td>57.78634</td>\n",
       "      <td>2603.03646</td>\n",
       "    </tr>\n",
       "    <tr>\n",
       "      <th>min</th>\n",
       "      <td>51.89000</td>\n",
       "      <td>3.000000</td>\n",
       "      <td>50.00000</td>\n",
       "      <td>1000.00000</td>\n",
       "    </tr>\n",
       "    <tr>\n",
       "      <th>25%</th>\n",
       "      <td>423.34750</td>\n",
       "      <td>7.000000</td>\n",
       "      <td>98.00000</td>\n",
       "      <td>3281.75000</td>\n",
       "    </tr>\n",
       "    <tr>\n",
       "      <th>50%</th>\n",
       "      <td>761.65500</td>\n",
       "      <td>12.000000</td>\n",
       "      <td>148.00000</td>\n",
       "      <td>5385.50000</td>\n",
       "    </tr>\n",
       "    <tr>\n",
       "      <th>75%</th>\n",
       "      <td>1122.67250</td>\n",
       "      <td>16.000000</td>\n",
       "      <td>198.25000</td>\n",
       "      <td>7535.00000</td>\n",
       "    </tr>\n",
       "    <tr>\n",
       "      <th>max</th>\n",
       "      <td>1497.76000</td>\n",
       "      <td>20.000000</td>\n",
       "      <td>250.00000</td>\n",
       "      <td>9999.00000</td>\n",
       "    </tr>\n",
       "  </tbody>\n",
       "</table>\n",
       "</div>"
      ],
      "text/plain": [
       "       Transaction Amount  Latency (ms)  Slice Bandwidth (Mbps)    PIN Code\n",
       "count          1000.00000   1000.000000              1000.00000  1000.00000\n",
       "mean            771.16529     11.688000               148.51100  5458.66600\n",
       "std             411.01925      5.131958                57.78634  2603.03646\n",
       "min              51.89000      3.000000                50.00000  1000.00000\n",
       "25%             423.34750      7.000000                98.00000  3281.75000\n",
       "50%             761.65500     12.000000               148.00000  5385.50000\n",
       "75%            1122.67250     16.000000               198.25000  7535.00000\n",
       "max            1497.76000     20.000000               250.00000  9999.00000"
      ]
     },
     "execution_count": 12,
     "metadata": {},
     "output_type": "execute_result"
    }
   ],
   "source": [
    "df[numerical_cols].describe()"
   ]
  },
  {
   "cell_type": "markdown",
   "id": "c2d35a3d",
   "metadata": {
    "papermill": {
     "duration": 0.005012,
     "end_time": "2025-01-31T01:49:11.513511",
     "exception": false,
     "start_time": "2025-01-31T01:49:11.508499",
     "status": "completed"
    },
    "tags": []
   },
   "source": [
    "## Exploratory Data Analysis (EDA)\n",
    "We explore the dataset to uncover patterns and relationships that can guide our modeling. Key areas:\n",
    "\n",
    "Data distribution for numerical and categorical features.\n",
    "Missing value analysis.\n",
    "Correlations between features and target variable. ### Distribution of Numerical Features"
   ]
  },
  {
   "cell_type": "code",
   "execution_count": 13,
   "id": "77323c43",
   "metadata": {
    "execution": {
     "iopub.execute_input": "2025-01-31T01:49:11.525104Z",
     "iopub.status.busy": "2025-01-31T01:49:11.524689Z",
     "iopub.status.idle": "2025-01-31T01:49:13.394700Z",
     "shell.execute_reply": "2025-01-31T01:49:13.393557Z"
    },
    "papermill": {
     "duration": 1.878271,
     "end_time": "2025-01-31T01:49:13.396935",
     "exception": false,
     "start_time": "2025-01-31T01:49:11.518664",
     "status": "completed"
    },
    "tags": []
   },
   "outputs": [
    {
     "data": {
      "image/png": "[encoded data removed]",
      "text/plain": [
       "<Figure size 1500x1000 with 9 Axes>"
      ]
     },
     "metadata": {},
     "output_type": "display_data"
    }
   ],
   "source": [
    "numerical_cols = df.select_dtypes(exclude=\"object\").columns\n",
    "df[numerical_cols].hist(bins=30, figsize=(15, 10))\n",
    "plt.suptitle(\"Distribution of Numerical Features\", size=12)\n",
    "plt.show()"
   ]
  },
  {
   "cell_type": "code",
   "execution_count": 14,
   "id": "c0e31371",
   "metadata": {
    "execution": {
     "iopub.execute_input": "2025-01-31T01:49:13.412358Z",
     "iopub.status.busy": "2025-01-31T01:49:13.411972Z",
     "iopub.status.idle": "2025-01-31T01:49:13.425049Z",
     "shell.execute_reply": "2025-01-31T01:49:13.423942Z"
    },
    "papermill": {
     "duration": 0.022835,
     "end_time": "2025-01-31T01:49:13.426919",
     "exception": false,
     "start_time": "2025-01-31T01:49:13.404084",
     "status": "completed"
    },
    "tags": []
   },
   "outputs": [
    {
     "data": {
      "text/html": [
       "<div>\n",
       "<style scoped>\n",
       "    .dataframe tbody tr th:only-of-type {\n",
       "        vertical-align: middle;\n",
       "    }\n",
       "\n",
       "    .dataframe tbody tr th {\n",
       "        vertical-align: top;\n",
       "    }\n",
       "\n",
       "    .dataframe thead th {\n",
       "        text-align: right;\n",
       "    }\n",
       "</style>\n",
       "<table border=\"1\" class=\"dataframe\">\n",
       "  <thead>\n",
       "    <tr style=\"text-align: right;\">\n",
       "      <th></th>\n",
       "      <th>Number of Unique Categories</th>\n",
       "    </tr>\n",
       "  </thead>\n",
       "  <tbody>\n",
       "    <tr>\n",
       "      <th>Transaction ID</th>\n",
       "      <td>1000</td>\n",
       "    </tr>\n",
       "    <tr>\n",
       "      <th>Sender Account ID</th>\n",
       "      <td>994</td>\n",
       "    </tr>\n",
       "    <tr>\n",
       "      <th>Receiver Account ID</th>\n",
       "      <td>994</td>\n",
       "    </tr>\n",
       "    <tr>\n",
       "      <th>Timestamp</th>\n",
       "      <td>60</td>\n",
       "    </tr>\n",
       "    <tr>\n",
       "      <th>Geolocation (Latitude/Longitude)</th>\n",
       "      <td>36</td>\n",
       "    </tr>\n",
       "  </tbody>\n",
       "</table>\n",
       "</div>"
      ],
      "text/plain": [
       "                                  Number of Unique Categories\n",
       "Transaction ID                                           1000\n",
       "Sender Account ID                                         994\n",
       "Receiver Account ID                                       994\n",
       "Timestamp                                                  60\n",
       "Geolocation (Latitude/Longitude)                           36"
      ]
     },
     "execution_count": 14,
     "metadata": {},
     "output_type": "execute_result"
    }
   ],
   "source": [
    "categorical_cols = df.select_dtypes(include=\"object\").columns\n",
    "df[categorical_cols].nunique().to_frame().rename(columns={0:\"Number of Unique Categories\"})"
   ]
  },
  {
   "cell_type": "code",
   "execution_count": null,
   "id": "e4a9d21b",
   "metadata": {
    "papermill": {
     "duration": 0.006772,
     "end_time": "2025-01-31T01:49:13.441046",
     "exception": false,
     "start_time": "2025-01-31T01:49:13.434274",
     "status": "completed"
    },
    "tags": []
   },
   "outputs": [],
   "source": []
  }
 ],
 "metadata": {
  "kaggle": {
   "accelerator": "none",
   "dataSources": [
    {
     "datasetId": 6513011,
     "sourceId": 10523469,
     "sourceType": "datasetVersion"
    }
   ],
   "dockerImageVersionId": 30839,
   "isGpuEnabled": false,
   "isInternetEnabled": true,
   "language": "python",
   "sourceType": "notebook"
  },
  "kernelspec": {
   "display_name": "Python 3",
   "language": "python",
   "name": "python3"
  },
  "language_info": {
   "codemirror_mode": {
    "name": "ipython",
    "version": 3
   },
   "file_extension": ".py",
   "mimetype": "text/x-python",
   "name": "python",
   "nbconvert_exporter": "python",
   "pygments_lexer": "ipython3",
   "version": "3.10.12"
  },
  "papermill": {
   "default_parameters": {},
   "duration": 8.790478,
   "end_time": "2025-01-31T01:49:14.168052",
   "environment_variables": {},
   "exception": null,
   "input_path": "__notebook__.ipynb",
   "output_path": "__notebook__.ipynb",
   "parameters": {},
   "start_time": "2025-01-31T01:49:05.377574",
   "version": "2.6.0"
  }
 },
 "nbformat": 4,
 "nbformat_minor": 5
}
